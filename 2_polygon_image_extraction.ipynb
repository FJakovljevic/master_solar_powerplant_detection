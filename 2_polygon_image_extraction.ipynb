{
 "cells": [
  {
   "cell_type": "markdown",
   "metadata": {},
   "source": [
    "# Imports, Constants and Setup"
   ]
  },
  {
   "cell_type": "code",
   "execution_count": 1,
   "metadata": {},
   "outputs": [],
   "source": [
    "import os\n",
    "import cv2\n",
    "import requests\n",
    "import numpy as np\n",
    "from tqdm import tqdm\n",
    "import geopandas as gpd\n",
    "import matplotlib.pyplot as plt\n",
    "from osmtogeojson import osmtogeojson\n",
    "import vec_geohash\n",
    "\n",
    "ZOOM = 16\n",
    "DISPLAY = False\n",
    "\n",
    "DATASET_FOLDER = f'data'\n",
    "train_img_path = f'{DATASET_FOLDER}/train_images/img'\n",
    "train_masks_path = f'{DATASET_FOLDER}/train_masks/img'\n",
    "val_img_path = f'{DATASET_FOLDER}/val_images/img'\n",
    "val_masks_path = f'{DATASET_FOLDER}/val_masks/img'\n",
    "for path in [train_img_path, train_masks_path, val_img_path, val_masks_path]:\n",
    "    os.makedirs(path, exist_ok=True)"
   ]
  },
  {
   "cell_type": "markdown",
   "metadata": {},
   "source": [
    "# Helper functions"
   ]
  },
  {
   "cell_type": "code",
   "execution_count": 2,
   "metadata": {},
   "outputs": [],
   "source": [
    "def download_img_for_tile(tile_x, tile_y, zoom, source='arcgis'):\n",
    "    \"\"\"Downloads image for Tile coordinates and Zoom level, you can also pass source from where to download.\"\"\"\n",
    "    if source == 'google':\n",
    "        url = f'https://mt1.google.com/vt/lyrs=s&x={tile_x}&y={tile_y}&z={zoom}'\n",
    "    elif source == 'google_new':\n",
    "        url = f'https://khms3.google.com/kh/v=932?x={tile_x}&y={tile_y}&z={zoom}'\n",
    "    else:\n",
    "        url = f'https://server.arcgisonline.com/ArcGIS/rest/services/World_Imagery/MapServer/tile/{zoom}/{tile_y}/{tile_x}'\n",
    "                \n",
    "    try:\n",
    "        img = requests.get(url).content\n",
    "    except:\n",
    "        return None\n",
    "\n",
    "\n",
    "    np_arr = np.frombuffer(img, np.uint8)\n",
    "    rgb_img = cv2.imdecode(np_arr, cv2.IMREAD_COLOR)\n",
    "    return rgb_img\n",
    "\n",
    "\n",
    "def query_osm_for_solar_panels_by_bbox(lat_min, lon_min, lat_max, lon_max):\n",
    "    \"\"\"Queries OSM for solar generators in bounding box.\"\"\"\n",
    "    osm_query = f\"\"\"\n",
    "                    [out:json][timeout:1500];\n",
    "                    way{lat_min, lon_min, lat_max, lon_max}[\"generator:source\"=\"solar\"];\n",
    "                    (._;>;);\n",
    "                    out; \n",
    "                \"\"\"\n",
    "    response = requests.get(\"http://overpass-api.de/api/interpreter\", params={'data': osm_query})\n",
    "    return response\n",
    "\n",
    "\n",
    "def parse_response(response):\n",
    "    \"\"\"Parses the response if status is good else raises an error.\"\"\"\n",
    "    response.raise_for_status()\n",
    "    data_json = response.json()\n",
    "    osm_data = osmtogeojson.process_osm_json(data_json)\n",
    "    return osm_data\n",
    "\n",
    "def query_solar_powerplants_for_tile(tile_x, tile_y, zoom):\n",
    "    lon_min, lat_min, lon_max, lat_max = vec_geohash.tile_to_lat_lon(tile_x, tile_y, zoom)[0]\n",
    "\n",
    "    padding = 0.02\n",
    "    lon_min, lat_min, lon_max, lat_max = lon_min-padding, lat_min-padding, lon_max+padding, lat_max+padding\n",
    "\n",
    "    response = query_osm_for_solar_panels_by_bbox(lat_min, lon_min, lat_max, lon_max)\n",
    "    data_json = parse_response(response)\n",
    "\n",
    "    gdf = gpd.GeoDataFrame.from_features(data_json, crs='epsg:4326', columns=['@id', 'geometry'])\n",
    "    gdf = gdf[gdf.geometry.type == 'Polygon']\n",
    "    return gdf\n",
    "\n",
    "\n",
    "def get_polygon_mask(polygon, zoom, offset_x=0, offset_y=0):\n",
    "    \"\"\"Creates mask for polygon.\"\"\"\n",
    "    lon, lat = np.array(polygon.exterior.coords).T\n",
    "    pixel_x, pixel_y = vec_geohash.lat_lon_to_pixel(lat, lon, zoom)\n",
    "    pixel_x, pixel_y = pixel_x-offset_x, pixel_y-offset_y\n",
    "    return np.vstack((pixel_x, pixel_y)).T\n",
    "\n",
    "\n",
    "def display_image(image):\n",
    "    \"\"\"Displays image.\"\"\"\n",
    "    plt.imshow(image)\n",
    "    plt.axis('off')\n",
    "    plt.show()\n",
    "\n",
    "def display_images(img_list):\n",
    "    f, axarr = plt.subplots(1, len(img_list), figsize=(13,13))\n",
    "    for x, img in enumerate(img_list):\n",
    "        axarr[x].imshow(img)\n",
    "    plt.show()"
   ]
  },
  {
   "cell_type": "markdown",
   "metadata": {},
   "source": [
    "# Downloading of satellite images"
   ]
  },
  {
   "cell_type": "code",
   "execution_count": 3,
   "metadata": {},
   "outputs": [
    {
     "name": "stderr",
     "output_type": "stream",
     "text": [
      "100%|██████████| 31042/31042 [1:45:42<00:00,  4.89it/s]  \n"
     ]
    }
   ],
   "source": [
    "downloaded_set = set()\n",
    "data = gpd.read_feather('osm_area_data_extracted/osm_data_Italia.geofeather')\n",
    "\n",
    "source = 'google'\n",
    "with tqdm(total=len(data)) as pbar:\n",
    "    for row_num, row_data in data.iterrows():\n",
    "        pbar.update(1)\n",
    "\n",
    "        for x in range(row_data.min_tile_x, row_data.max_tile_x + 1):\n",
    "            for y in range(row_data.min_tile_y, row_data.max_tile_y + 1):\n",
    "\n",
    "                # skipping already downloaded img\n",
    "                if (x, y, ZOOM) in downloaded_set:\n",
    "                    continue\n",
    "\n",
    "                img = download_img_for_tile(x, y, ZOOM, source)\n",
    "                if img is None:\n",
    "                    source = 'arcgis' if source == 'google' else 'google'\n",
    "                    img = download_img_for_tile(x, y, ZOOM, source)\n",
    "\n",
    "                if img is None:\n",
    "                    print(f'Failed to download bot from google and arcgis: {(x, y, ZOOM)}')\n",
    "                    continue\n",
    "\n",
    "                downloaded_set.add((x, y, ZOOM))\n",
    "\n",
    "                # extracting data form mask\n",
    "                gdf = query_solar_powerplants_for_tile(x, y, ZOOM)\n",
    "                masks = [get_polygon_mask(polygon, ZOOM, x*256, y*256) for polygon in gdf.geometry]\n",
    "                masked_img = cv2.fillPoly(np.zeros((256,256)), masks, 255)\n",
    "\n",
    "                if DISPLAY:\n",
    "                    overlay_img = img.copy()\n",
    "                    overlay_img = cv2.polylines(overlay_img, masks, True, (255,0,0), thickness=2)\n",
    "                    display_images([img, overlay_img, masked_img])\n",
    "\n",
    "                # skip where mask is less then 1%\n",
    "                if masked_img.sum() < 165_000:\n",
    "                    continue\n",
    "\n",
    "                # training and validation set\n",
    "                train_img_path, train_masks_path, val_img_path, val_masks_path\n",
    "                if np.random.rand() > 0.2:\n",
    "                    cv2.imwrite(f'{train_img_path}/img_{ZOOM}_{x}_{y}.png', img)\n",
    "                    cv2.imwrite(f'{train_masks_path}/img_{ZOOM}_{x}_{y}.png', masked_img)\n",
    "                else:\n",
    "                    cv2.imwrite(f'{val_img_path}/img_{ZOOM}_{x}_{y}.png', img)\n",
    "                    cv2.imwrite(f'{val_masks_path}/img_{ZOOM}_{x}_{y}.png', masked_img)\n",
    "\n",
    "\n",
    "\n"
   ]
  },
  {
   "cell_type": "code",
   "execution_count": null,
   "metadata": {},
   "outputs": [],
   "source": []
  }
 ],
 "metadata": {
  "kernelspec": {
   "display_name": "Python 3",
   "language": "python",
   "name": "python3"
  },
  "language_info": {
   "codemirror_mode": {
    "name": "ipython",
    "version": 3
   },
   "file_extension": ".py",
   "mimetype": "text/x-python",
   "name": "python",
   "nbconvert_exporter": "python",
   "pygments_lexer": "ipython3",
   "version": "3.11.3"
  }
 },
 "nbformat": 4,
 "nbformat_minor": 4
}
